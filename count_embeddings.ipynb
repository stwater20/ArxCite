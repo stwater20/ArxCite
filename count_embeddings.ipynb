{
 "cells": [
  {
   "cell_type": "code",
   "execution_count": 1,
   "metadata": {},
   "outputs": [
    {
     "name": "stdout",
     "output_type": "stream",
     "text": [
      "Counting embeddings...\n"
     ]
    },
    {
     "name": "stderr",
     "output_type": "stream",
     "text": [
      "Processing JSONL: 2620981it [19:42, 2215.80it/s]"
     ]
    },
    {
     "name": "stdout",
     "output_type": "stream",
     "text": [
      "Total embeddings in the dataset: 15792561\n"
     ]
    },
    {
     "name": "stderr",
     "output_type": "stream",
     "text": [
      "\n"
     ]
    }
   ],
   "source": [
    "import json\n",
    "from tqdm import tqdm\n",
    "\n",
    "# 定義輸入檔案路徑\n",
    "input_file = 'arxiv-metadata-with-embeddings.json'\n",
    "\n",
    "def count_total_embeddings(file_path):\n",
    "    total_embeddings = 0\n",
    "    \n",
    "    print(\"Counting embeddings...\")\n",
    "    with open(file_path, 'r') as f:\n",
    "        for line in tqdm(f, desc=\"Processing JSONL\"):\n",
    "            paper = json.loads(line)\n",
    "            if 'embeddings' in paper:\n",
    "                total_embeddings += len(paper['embeddings'])\n",
    "\n",
    "    return total_embeddings\n",
    "\n",
    "# 計算總數\n",
    "embedding_count = count_total_embeddings(input_file)\n",
    "print(f\"Total embeddings in the dataset: {embedding_count}\")\n"
   ]
  },
  {
   "cell_type": "code",
   "execution_count": null,
   "metadata": {},
   "outputs": [],
   "source": []
  }
 ],
 "metadata": {
  "kernelspec": {
   "display_name": "arxcite",
   "language": "python",
   "name": "python3"
  },
  "language_info": {
   "codemirror_mode": {
    "name": "ipython",
    "version": 3
   },
   "file_extension": ".py",
   "mimetype": "text/x-python",
   "name": "python",
   "nbconvert_exporter": "python",
   "pygments_lexer": "ipython3",
   "version": "3.7.12"
  }
 },
 "nbformat": 4,
 "nbformat_minor": 2
}
