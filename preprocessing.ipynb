{
 "cells": [
  {
   "cell_type": "code",
   "execution_count": 10,
   "metadata": {},
   "outputs": [
    {
     "name": "stderr",
     "output_type": "stream",
     "text": [
      "Processing papers: 2620981it [5:12:51, 139.62it/s]"
     ]
    },
    {
     "name": "stdout",
     "output_type": "stream",
     "text": [
      "Processed data saved to arxiv-metadata-with-embeddings.json\n"
     ]
    },
    {
     "name": "stderr",
     "output_type": "stream",
     "text": [
      "\n"
     ]
    }
   ],
   "source": [
    "import json\n",
    "from sentence_transformers import SentenceTransformer\n",
    "from nltk.tokenize import sent_tokenize\n",
    "from tqdm import tqdm\n",
    "\n",
    "# 確保使用 GPU\n",
    "model = SentenceTransformer('all-MiniLM-L6-v2', device='cuda')\n",
    "\n",
    "# 定義文件路徑\n",
    "input_file = 'arxiv-metadata-oai-snapshot.json'\n",
    "output_file = 'arxiv-metadata-with-embeddings.json'\n",
    "\n",
    "# 分批處理大小\n",
    "batch_size = 64\n",
    "\n",
    "# 初始化處理\n",
    "with open(input_file, 'r') as f_in, open(output_file, 'w') as f_out:\n",
    "    for line in tqdm(f_in, desc=\"Processing papers\"):\n",
    "        # 加載原始記錄\n",
    "        paper = json.loads(line)\n",
    "\n",
    "        # 獲取摘要\n",
    "        abstract = paper.get('abstract', None)\n",
    "        \n",
    "        if abstract:\n",
    "            # 使用 NLTK 進行句子分割\n",
    "            sentences = sent_tokenize(abstract)\n",
    "            \n",
    "            # 分批生成嵌入向量\n",
    "            embeddings = []\n",
    "            for i in range(0, len(sentences), batch_size):\n",
    "                batch_sentences = sentences[i:i + batch_size]\n",
    "                batch_embeddings = model.encode(batch_sentences, show_progress_bar=False)\n",
    "                embeddings.extend(batch_embeddings)\n",
    "\n",
    "            # 確保將 NumPy 嵌入轉換為列表\n",
    "            paper['sentences'] = sentences\n",
    "            paper['embeddings'] = [embedding.tolist() for embedding in embeddings]\n",
    "\n",
    "        # 將處理後的記錄寫入新文件\n",
    "        f_out.write(json.dumps(paper) + '\\n')\n",
    "\n",
    "print(f\"Processed data saved to {output_file}\")\n"
   ]
  },
  {
   "cell_type": "code",
   "execution_count": null,
   "metadata": {},
   "outputs": [
    {
     "name": "stderr",
     "output_type": "stream",
     "text": [
      "[nltk_data] Downloading package punkt to /home/is1ab/nltk_data...\n",
      "[nltk_data]   Package punkt is already up-to-date!\n"
     ]
    },
    {
     "data": {
      "text/plain": [
       "True"
      ]
     },
     "execution_count": 1,
     "metadata": {},
     "output_type": "execute_result"
    }
   ],
   "source": []
  },
  {
   "cell_type": "code",
   "execution_count": null,
   "metadata": {},
   "outputs": [],
   "source": []
  }
 ],
 "metadata": {
  "kernelspec": {
   "display_name": "arxcite",
   "language": "python",
   "name": "python3"
  },
  "language_info": {
   "codemirror_mode": {
    "name": "ipython",
    "version": 3
   },
   "file_extension": ".py",
   "mimetype": "text/x-python",
   "name": "python",
   "nbconvert_exporter": "python",
   "pygments_lexer": "ipython3",
   "version": "3.7.12"
  }
 },
 "nbformat": 4,
 "nbformat_minor": 2
}
