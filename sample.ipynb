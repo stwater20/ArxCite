{
 "cells": [
  {
   "cell_type": "code",
   "execution_count": 6,
   "metadata": {},
   "outputs": [
    {
     "name": "stdout",
     "output_type": "stream",
     "text": [
      "FAISS index dimension: 384\n",
      "Number of embeddings in index: 100\n",
      "Query embedding shape: (1, 384)\n",
      "Nearest neighbors: [[97 67  4 99 68]]\n",
      "Distances: [[110.53925 117.69699 118.03158 118.50382 119.05432]]\n"
     ]
    }
   ],
   "source": [
    "import numpy as np\n",
    "import faiss\n",
    "from sentence_transformers import SentenceTransformer\n",
    "\n",
    "# 創建模擬嵌入\n",
    "embeddings = np.random.random((100, 384)).astype('float32')  # 100 條 384 維嵌入\n",
    "dimension = embeddings.shape[1]\n",
    "\n",
    "# 建立 FAISS 索引\n",
    "index = faiss.IndexFlatL2(dimension)\n",
    "index.add(embeddings)\n",
    "\n",
    "print(f\"FAISS index dimension: {index.d}\")\n",
    "print(f\"Number of embeddings in index: {index.ntotal}\")\n",
    "\n",
    "# 生成查詢嵌入\n",
    "model = SentenceTransformer('all-MiniLM-L6-v2')\n",
    "query = \"example query sentence\"\n",
    "query_embedding = model.encode([query]).astype('float32')  # 確保形狀為 (1, dimension)\n",
    "\n",
    "print(f\"Query embedding shape: {query_embedding.shape}\")\n",
    "\n",
    "# 查詢最近鄰\n",
    "k = 5\n",
    "distances, indices = index.search(query_embedding, k)\n",
    "\n",
    "# 輸出結果\n",
    "print(f\"Nearest neighbors: {indices}\")\n",
    "print(f\"Distances: {distances}\")\n"
   ]
  },
  {
   "cell_type": "code",
   "execution_count": 4,
   "metadata": {},
   "outputs": [
    {
     "name": "stdout",
     "output_type": "stream",
     "text": [
      "FAISS version: 1.7.2\n"
     ]
    }
   ],
   "source": [
    "import faiss\n",
    "print(f\"FAISS version: {faiss.__version__}\")\n"
   ]
  },
  {
   "cell_type": "code",
   "execution_count": null,
   "metadata": {},
   "outputs": [],
   "source": []
  }
 ],
 "metadata": {
  "kernelspec": {
   "display_name": "arxcite",
   "language": "python",
   "name": "python3"
  },
  "language_info": {
   "codemirror_mode": {
    "name": "ipython",
    "version": 3
   },
   "file_extension": ".py",
   "mimetype": "text/x-python",
   "name": "python",
   "nbconvert_exporter": "python",
   "pygments_lexer": "ipython3",
   "version": "3.7.12"
  }
 },
 "nbformat": 4,
 "nbformat_minor": 2
}
