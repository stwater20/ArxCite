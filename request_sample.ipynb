{
 "cells": [
  {
   "cell_type": "code",
   "execution_count": 1,
   "metadata": {},
   "outputs": [
    {
     "name": "stdout",
     "output_type": "stream",
     "text": [
      "Title: Prediction with expert advice for the Brier game\n",
      "Abstract:   We show that the Brier game of prediction is mixable and find the optimal\n",
      "learning rate and substitution function for it. The resulting prediction\n",
      "algorithm is applied to predict results of football and tennis matches. The\n",
      "theoretical performance guarantee turns out to be rather tight on these data\n",
      "sets, especially in the case of the more extensive tennis data.\n",
      "\n",
      "Authors: Vladimir Vovk, Fedor Zhdanov\n",
      "PDF Link: http://arxiv.org/pdf/0710.0485v2\n"
     ]
    }
   ],
   "source": [
    "import requests\n",
    "from xml.etree import ElementTree\n",
    "\n",
    "# 查詢 arXiv API\n",
    "arxiv_id = \"0710.0485\"\n",
    "url = f\"http://export.arxiv.org/api/query?id_list={arxiv_id}\"\n",
    "response = requests.get(url)\n",
    "\n",
    "# 解析 XML\n",
    "root = ElementTree.fromstring(response.content)\n",
    "for entry in root.findall(\"{http://www.w3.org/2005/Atom}entry\"):\n",
    "    title = entry.find(\"{http://www.w3.org/2005/Atom}title\").text\n",
    "    summary = entry.find(\"{http://www.w3.org/2005/Atom}summary\").text\n",
    "    authors = [author.find(\"{http://www.w3.org/2005/Atom}name\").text for author in entry.findall(\"{http://www.w3.org/2005/Atom}author\")]\n",
    "    pdf_link = entry.find(\"{http://www.w3.org/2005/Atom}link[@title='pdf']\").attrib['href']\n",
    "\n",
    "    print(f\"Title: {title}\")\n",
    "    print(f\"Abstract: {summary}\")\n",
    "    print(f\"Authors: {', '.join(authors)}\")\n",
    "    print(f\"PDF Link: {pdf_link}\")\n"
   ]
  },
  {
   "cell_type": "code",
   "execution_count": null,
   "metadata": {},
   "outputs": [],
   "source": []
  }
 ],
 "metadata": {
  "kernelspec": {
   "display_name": "arxcite",
   "language": "python",
   "name": "python3"
  },
  "language_info": {
   "codemirror_mode": {
    "name": "ipython",
    "version": 3
   },
   "file_extension": ".py",
   "mimetype": "text/x-python",
   "name": "python",
   "nbconvert_exporter": "python",
   "pygments_lexer": "ipython3",
   "version": "3.7.12"
  }
 },
 "nbformat": 4,
 "nbformat_minor": 2
}
